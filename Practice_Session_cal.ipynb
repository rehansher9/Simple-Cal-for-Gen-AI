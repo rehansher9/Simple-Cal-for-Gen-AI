{
  "nbformat": 4,
  "nbformat_minor": 0,
  "metadata": {
    "colab": {
      "provenance": [],
      "authorship_tag": "ABX9TyMo2JB5p7ZtROzz/Yaalxlh",
      "include_colab_link": true
    },
    "kernelspec": {
      "name": "python3",
      "display_name": "Python 3"
    },
    "language_info": {
      "name": "python"
    }
  },
  "cells": [
    {
      "cell_type": "markdown",
      "metadata": {
        "id": "view-in-github",
        "colab_type": "text"
      },
      "source": [
        "<a href=\"https://colab.research.google.com/github/rehansher9/Simple-Cal-for-Gen-AI/blob/main/Practice_Session_cal.ipynb\" target=\"_parent\"><img src=\"https://colab.research.google.com/assets/colab-badge.svg\" alt=\"Open In Colab\"/></a>"
      ]
    },
    {
      "cell_type": "code",
      "execution_count": 1,
      "metadata": {
        "colab": {
          "base_uri": "https://localhost:8080/"
        },
        "id": "XKABovxZkovE",
        "outputId": "3d7517a9-f86c-40f5-f61c-960951afc1a2"
      },
      "outputs": [
        {
          "output_type": "stream",
          "name": "stdout",
          "text": [
            "Simple Calculator\n",
            "Select operation:\n",
            "1. Addition (+)\n",
            "2. Subtraction (-)\n",
            "3. Multiplication (*)\n",
            "4. Division (/)\n",
            "Enter choice(1/2/3/4): 3\n",
            "Enter first number: 60\n",
            "Enter second number: 1000\n",
            "60.0 * 1000.0 = 60000.0\n"
          ]
        }
      ],
      "source": [
        "# Define the functions for each operation\n",
        "def add(num1, num2):\n",
        "    return num1 + num2\n",
        "\n",
        "def subtract(num1, num2):\n",
        "    return num1 - num2\n",
        "\n",
        "def multiply(num1, num2):\n",
        "    return num1 * num2\n",
        "\n",
        "def divide(num1, num2):\n",
        "    if num2 == 0:\n",
        "        return \"Error: Division by zero is not allowed.\"\n",
        "    else:\n",
        "        return num1 / num2\n",
        "\n",
        "# Function to get the user's choice and perform the operation\n",
        "def calculator():\n",
        "    print(\"Simple Calculator\")\n",
        "    print(\"Select operation:\")\n",
        "    print(\"1. Addition (+)\")\n",
        "    print(\"2. Subtraction (-)\")\n",
        "    print(\"3. Multiplication (*)\")\n",
        "    print(\"4. Division (/)\")\n",
        "\n",
        "    # Taking input from the user for choice\n",
        "    choice = input(\"Enter choice(1/2/3/4): \")\n",
        "\n",
        "    # Checking if the choice is valid\n",
        "    if choice in ['1', '2', '3', '4']:\n",
        "        num1 = float(input(\"Enter first number: \"))\n",
        "        num2 = float(input(\"Enter second number: \"))\n",
        "\n",
        "        if choice == '1':\n",
        "            result = add(num1, num2)\n",
        "            print(f\"{num1} + {num2} = {result}\")\n",
        "\n",
        "        elif choice == '2':\n",
        "            result = subtract(num1, num2)\n",
        "            print(f\"{num1} - {num2} = {result}\")\n",
        "\n",
        "        elif choice == '3':\n",
        "            result = multiply(num1, num2)\n",
        "            print(f\"{num1} * {num2} = {result}\")\n",
        "\n",
        "        elif choice == '4':\n",
        "            result = divide(num1, num2)\n",
        "            print(f\"{num1} / {num2} = {result}\")\n",
        "    else:\n",
        "        print(\"Invalid input! Please enter a valid choice.\")\n",
        "\n",
        "# Run the calculator\n",
        "calculator()\n",
        "\n"
      ]
    },
    {
      "cell_type": "code",
      "source": [],
      "metadata": {
        "id": "VDq95IOWlwg1"
      },
      "execution_count": null,
      "outputs": []
    }
  ]
}