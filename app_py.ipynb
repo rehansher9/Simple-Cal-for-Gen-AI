{
  "nbformat": 4,
  "nbformat_minor": 0,
  "metadata": {
    "colab": {
      "provenance": [],
      "authorship_tag": "ABX9TyNo32/IC7k37HJ4tKcRfnXP",
      "include_colab_link": true
    },
    "kernelspec": {
      "name": "python3",
      "display_name": "Python 3"
    },
    "language_info": {
      "name": "python"
    }
  },
  "cells": [
    {
      "cell_type": "markdown",
      "metadata": {
        "id": "view-in-github",
        "colab_type": "text"
      },
      "source": [
        "<a href=\"https://colab.research.google.com/github/rehansher9/Simple-Cal-for-Gen-AI/blob/main/app_py.ipynb\" target=\"_parent\"><img src=\"https://colab.research.google.com/assets/colab-badge.svg\" alt=\"Open In Colab\"/></a>"
      ]
    },
    {
      "cell_type": "code",
      "execution_count": 1,
      "metadata": {
        "colab": {
          "base_uri": "https://localhost:8080/"
        },
        "id": "XKABovxZkovE",
        "outputId": "3d7517a9-f86c-40f5-f61c-960951afc1a2"
      },
      "outputs": [
        {
          "output_type": "stream",
          "name": "stdout",
          "text": [
            "Simple Calculator\n",
            "Select operation:\n",
            "1. Addition (+)\n",
            "2. Subtraction (-)\n",
            "3. Multiplication (*)\n",
            "4. Division (/)\n",
            "Enter choice(1/2/3/4): 3\n",
            "Enter first number: 60\n",
            "Enter second number: 1000\n",
            "60.0 * 1000.0 = 60000.0\n"
          ]
        }
      ],
      "source": [
        "import streamlit as st\n",
        "\n",
        "# Define functions for the calculator operations\n",
        "def add(num1, num2):\n",
        "    return num1 + num2\n",
        "\n",
        "def subtract(num1, num2):\n",
        "    return num1 - num2\n",
        "\n",
        "def multiply(num1, num2):\n",
        "    return num1 * num2\n",
        "\n",
        "def divide(num1, num2):\n",
        "    if num2 == 0:\n",
        "        return \"Error: Division by zero is not allowed.\"\n",
        "    else:\n",
        "        return num1 / num2\n",
        "\n",
        "# Streamlit app interface\n",
        "def calculator_app():\n",
        "    st.title(\"Simple Calculator\")\n",
        "\n",
        "    # Dropdown for operation selection\n",
        "    operation = st.selectbox(\"Select Operation\", [\"Addition\", \"Subtraction\", \"Multiplication\", \"Division\"])\n",
        "\n",
        "    # Input fields for numbers\n",
        "    num1 = st.number_input(\"Enter first number\", format=\"%f\")\n",
        "    num2 = st.number_input(\"Enter second number\", format=\"%f\")\n",
        "\n",
        "    # Perform calculation based on the selected operation\n",
        "    if operation == \"Addition\":\n",
        "        result = add(num1, num2)\n",
        "    elif operation == \"Subtraction\":\n",
        "        result = subtract(num1, num2)\n",
        "    elif operation == \"Multiplication\":\n",
        "        result = multiply(num1, num2)\n",
        "    elif operation == \"Division\":\n",
        "        result = divide(num1, num2)\n",
        "\n",
        "    # Display the result\n",
        "    if st.button(\"Calculate\"):\n",
        "        st.write(f\"The result is: {result}\")\n",
        "\n",
        "# Run the Streamlit app\n",
        "if __name__ == \"__main__\":\n",
        "    calculator_app()\n",
        "\n",
        "\n"
      ]
    },
    {
      "cell_type": "code",
      "source": [],
      "metadata": {
        "id": "VDq95IOWlwg1"
      },
      "execution_count": null,
      "outputs": []
    }
  ]
}